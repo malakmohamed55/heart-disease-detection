{
 "cells": [
  {
   "cell_type": "code",
   "execution_count": 1,
   "metadata": {},
   "outputs": [
    {
     "name": "stdout",
     "output_type": "stream",
     "text": [
      "Requirement already satisfied: experta in c:\\users\\admin\\appdata\\local\\programs\\python\\python313\\lib\\site-packages (1.9.4)\n",
      "Requirement already satisfied: frozendict==1.2 in c:\\users\\admin\\appdata\\local\\programs\\python\\python313\\lib\\site-packages (from experta) (1.2)\n",
      "Requirement already satisfied: schema==0.6.7 in c:\\users\\admin\\appdata\\local\\programs\\python\\python313\\lib\\site-packages (from experta) (0.6.7)\n",
      "Note: you may need to restart the kernel to use updated packages.\n"
     ]
    },
    {
     "name": "stderr",
     "output_type": "stream",
     "text": [
      "\n",
      "[notice] A new release of pip is available: 24.3.1 -> 25.0.1\n",
      "[notice] To update, run: python.exe -m pip install --upgrade pip\n"
     ]
    }
   ],
   "source": [
    "pip install experta\n"
   ]
  },
  {
   "cell_type": "code",
   "execution_count": 2,
   "metadata": {},
   "outputs": [],
   "source": [
    "def evaluate_heart_risk(age, cholesterol, bp, smoker, exercise, bmi, fbs, oldpeak):\n",
    "    risk_level = \"Low\"\n",
    "\n",
    "    if cholesterol > 240 and age > 50:\n",
    "        risk_level = \"High\"\n",
    "        print(\" Rule 1 triggered: Cholesterol > 240 and Age > 50\")\n",
    "\n",
    "    if bp > 140 and smoker.lower() == \"yes\":\n",
    "        risk_level = \"High\"\n",
    "        print(\" Rule 2 triggered: BP > 140 and Smoker\")\n",
    "\n",
    "    if exercise.lower() == \"regular\" and bmi < 25:\n",
    "        risk_level = \"Low\"\n",
    "        print(\" Rule 3 triggered: Regular Exercise and BMI < 25\")\n",
    "\n",
    "    if fbs == 1 and oldpeak > 2.0:\n",
    "        risk_level = \"Medium\"\n",
    "        print(\" Rule 4 triggered: Fasting Blood Sugar is High and Oldpeak > 2.0\")\n",
    "\n",
    "    if bp > 160:\n",
    "        risk_level = \"High\"\n",
    "        print(\" Rule 5 triggered: BP > 160\")\n",
    "\n",
    "    if age < 40 and cholesterol < 200:\n",
    "        risk_level = \"Low\"\n",
    "        print(\" Rule 6 triggered: Young Age and Normal Cholesterol\")\n",
    "\n",
    "    if bmi > 30:\n",
    "        risk_level = \"Medium\"\n",
    "        print(\" Rule 7 triggered: BMI > 30 (Overweight)\")\n",
    "\n",
    "    if smoker.lower() == \"yes\" and exercise.lower() == \"none\":\n",
    "        risk_level = \"High\"\n",
    "        print(\"Rule 8 triggered: Smoker and No Exercise\")\n",
    "\n",
    "    if age > 60 and bp > 150 and cholesterol > 250:\n",
    "        risk_level = \"High\"\n",
    "        print(\" Rule 9 triggered: Age > 60 with High BP and Cholesterol\")\n",
    "\n",
    "    if bmi < 18.5:\n",
    "        risk_level = \"Medium\"\n",
    "        print(\" Rule 10 triggered: Underweight (BMI < 18.5)\")\n",
    "\n",
    "    return risk_level"
   ]
  },
  {
   "cell_type": "code",
   "execution_count": 3,
   "metadata": {},
   "outputs": [
    {
     "name": "stdout",
     "output_type": "stream",
     "text": [
      " Heart Disease Risk Assessment\n",
      "\n",
      " Rule 6 triggered: Young Age and Normal Cholesterol\n",
      " Rule 7 triggered: BMI > 30 (Overweight)\n",
      "\n",
      " Final Risk Prediction: Medium\n"
     ]
    }
   ],
   "source": [
    "print(\" Heart Disease Risk Assessment\\n\")\n",
    "\n",
    "age = int(input(\"Enter Age: \"))\n",
    "cholesterol = float(input(\"Enter Cholesterol level (mg/dL): \"))\n",
    "bp = float(input(\"Enter Blood Pressure (mm Hg): \"))\n",
    "smoker = input(\"Do you smoke? (yes/no): \")\n",
    "exercise = input(\"Do you exercise regularly? (regular/none): \")\n",
    "bmi = float(input(\"Enter BMI: \"))\n",
    "fbs = int(input(\"Is your fasting blood sugar > 120 mg/dL? (1=yes, 0=no): \"))\n",
    "oldpeak = float(input(\"Enter oldpeak (ST depression): \"))\n",
    "\n",
    "risk = evaluate_heart_risk(age, cholesterol, bp, smoker, exercise, bmi, fbs, oldpeak)\n",
    "\n",
    "print(f\"\\n Final Risk Prediction: {risk}\")"
   ]
  },
  {
   "cell_type": "code",
   "execution_count": null,
   "metadata": {},
   "outputs": [],
   "source": []
  }
 ],
 "metadata": {
  "kernelspec": {
   "display_name": "Python 3",
   "language": "python",
   "name": "python3"
  },
  "language_info": {
   "codemirror_mode": {
    "name": "ipython",
    "version": 3
   },
   "file_extension": ".py",
   "mimetype": "text/x-python",
   "name": "python",
   "nbconvert_exporter": "python",
   "pygments_lexer": "ipython3",
   "version": "3.13.2"
  }
 },
 "nbformat": 4,
 "nbformat_minor": 2
}
